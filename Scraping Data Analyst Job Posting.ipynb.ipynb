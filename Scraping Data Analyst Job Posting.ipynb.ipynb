{
 "cells": [
  {
   "cell_type": "code",
   "execution_count": 57,
   "id": "01404fa7",
   "metadata": {},
   "outputs": [],
   "source": [
    "import pandas as pd # 1. Import libraries\n",
    "import requests\n",
    "from bs4 import BeautifulSoup"
   ]
  },
  {
   "cell_type": "code",
   "execution_count": 2,
   "id": "333a4e39",
   "metadata": {},
   "outputs": [],
   "source": [
    "# 2. Copy the url of the web page you want to scrape and assign it to a variable\n",
    "# 3. With the help of requests.get() method, which make a request to a web page and then return its content\n",
    "# 4. Then, define a function to easily extract,transform and load data"
   ]
  },
  {
   "cell_type": "code",
   "execution_count": 58,
   "id": "7bec37c8",
   "metadata": {},
   "outputs": [],
   "source": [
    "\n",
    "def extract(page):\n",
    "    headers = {'User-Agent':'Mozilla/5.0 (Windows NT 10.0; Win64; x64) AppleWebKit/537.36 (KHTML, like Gecko) Chrome/119.0.0.0 Safari/537.36'}\n",
    "    posting_url = f'https://www.linkedin.com/jobs/search?keywords=Data%20Analyst&location=United%20States&geoId=103644278&trk=public_jobs_jobs-search-bar_search-submit&position=1&pageNum={page}'\n",
    "    req = requests.get(posting_url,headers)\n",
    "    soup = BeautifulSoup(req.content,'html.parser')\n",
    "    return soup"
   ]
  },
  {
   "cell_type": "code",
   "execution_count": 59,
   "id": "51516a24",
   "metadata": {},
   "outputs": [],
   "source": [
    "def trans(soup):\n",
    "    divs = soup.find_all('div', class_= 'base-card relative w-full hover:no-underline focus:no-underline base-card--link base-search-card base-search-card--link job-search-card') #base-search-card__info\n",
    "    #divs = soup.find_all('div', class_ ='job-card-container__job-insight-text') #\"job-search-card\"\n",
    "    #return len(divs)\n",
    "    for items in divs:\n",
    "        title = items.find('a').text.strip()\n",
    "        company = items.find('h4', class_ ='base-search-card__subtitle').text.strip()\n",
    "        #print(title)\n",
    "        #print(company)\n",
    "        try:\n",
    "            location = items.find('span',class_ ='job-search-card__location').text.strip()\n",
    "        except:\n",
    "            location = ''\n",
    "        try:\n",
    "            list_date = items.find('time', class_ = 'job-search-card__listdate').text.strip()\n",
    "        except:\n",
    "            list_date = ''\n",
    "        job_link =items.find('a').get('href')\n",
    "        job = {\n",
    "            'Title':title,\n",
    "            'Company':company,\n",
    "            'Location':location,\n",
    "            'List_Date':list_date,\n",
    "            'Job_URL':job_link\n",
    "        }\n",
    "        joblist.append(job)\n",
    "    return\n"
   ]
  },
  {
   "cell_type": "code",
   "execution_count": 60,
   "id": "60fa3e9a",
   "metadata": {},
   "outputs": [
    {
     "name": "stdout",
     "output_type": "stream",
     "text": [
      "Getting page,0\n",
      "Getting page,10\n",
      "Getting page,20\n",
      "Getting page,30\n",
      "Getting page,40\n",
      "Getting page,50\n",
      "150\n"
     ]
    }
   ],
   "source": [
    "joblist = []\n",
    "\n",
    "for i in range(0,51,10):\n",
    "    print(f'Getting page,{i}')\n",
    "    c = extract(i)\n",
    "    trans(c)  \n",
    "print (len(joblist))\n"
   ]
  },
  {
   "cell_type": "code",
   "execution_count": 61,
   "id": "0a338328",
   "metadata": {},
   "outputs": [
    {
     "name": "stdout",
     "output_type": "stream",
     "text": [
      "                 Title               Company                     Location  \\\n",
      "0  Junior Data Analyst  Applus+ Laboratories                     Troy, MI   \n",
      "1        Data Analysis            Perficient                    Plano, TX   \n",
      "2         Data Analyst           BakerRipley                  Houston, TX   \n",
      "3         Data Analyst                Glocap  Dallas-Fort Worth Metroplex   \n",
      "4         Data Analyst           LTIMindtree                   Irving, TX   \n",
      "\n",
      "    List_Date                                            Job_URL  \n",
      "0  1 week ago  https://www.linkedin.com/jobs/view/junior-data...  \n",
      "1  1 week ago  https://www.linkedin.com/jobs/view/data-analys...  \n",
      "2  6 days ago  https://www.linkedin.com/jobs/view/data-analys...  \n",
      "3  1 week ago  https://www.linkedin.com/jobs/view/data-analys...  \n",
      "4  1 week ago  https://www.linkedin.com/jobs/view/data-analys...  \n"
     ]
    }
   ],
   "source": [
    "df = pd.DataFrame(joblist)\n",
    "print(df.head())"
   ]
  },
  {
   "cell_type": "code",
   "execution_count": 63,
   "id": "da228084",
   "metadata": {},
   "outputs": [],
   "source": [
    "df.to_excel('linkedin_jobpost.xlsx',index=False)"
   ]
  },
  {
   "cell_type": "code",
   "execution_count": null,
   "id": "f3dd9aac",
   "metadata": {},
   "outputs": [],
   "source": []
  }
 ],
 "metadata": {
  "kernelspec": {
   "display_name": "Python 3 (ipykernel)",
   "language": "python",
   "name": "python3"
  },
  "language_info": {
   "codemirror_mode": {
    "name": "ipython",
    "version": 3
   },
   "file_extension": ".py",
   "mimetype": "text/x-python",
   "name": "python",
   "nbconvert_exporter": "python",
   "pygments_lexer": "ipython3",
   "version": "3.11.5"
  }
 },
 "nbformat": 4,
 "nbformat_minor": 5
}
